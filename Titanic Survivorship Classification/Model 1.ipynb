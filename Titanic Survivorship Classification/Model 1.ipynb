{
 "cells": [
  {
   "cell_type": "code",
   "execution_count": 1,
   "metadata": {},
   "outputs": [
    {
     "name": "stderr",
     "output_type": "stream",
     "text": [
      "C:\\Users\\JLipemelton\\AppData\\Local\\Continuum\\anaconda3\\lib\\site-packages\\h5py\\__init__.py:36: FutureWarning: Conversion of the second argument of issubdtype from `float` to `np.floating` is deprecated. In future, it will be treated as `np.float64 == np.dtype(float).type`.\n",
      "  from ._conv import register_converters as _register_converters\n",
      "Using TensorFlow backend.\n"
     ]
    }
   ],
   "source": [
    "# Import libraries for data wrangling, preprocessing and visualization\n",
    "import numpy as np\n",
    "import pandas as pd\n",
    "import matplotlib.pyplot as plt\n",
    "%matplotlib inline\n",
    "from sklearn.model_selection import train_test_split\n",
    "from sklearn.preprocessing import LabelEncoder\n",
    "from sklearn.preprocessing import StandardScaler\n",
    "from sklearn.pipeline import Pipeline\n",
    "\n",
    "# Importing libraries for building the neural network\n",
    "from keras.models import Sequential\n",
    "from keras.layers import Dense, Dropout\n",
    "from keras.wrappers.scikit_learn import KerasClassifier\n",
    "from sklearn.model_selection import StratifiedKFold\n",
    "from sklearn.model_selection import cross_val_score"
   ]
  },
  {
   "cell_type": "code",
   "execution_count": 2,
   "metadata": {},
   "outputs": [],
   "source": [
    "data = pd.read_csv(\"Titanic Data/train.csv\")\n",
    "seed = 5\n",
    "np.random.seed(seed)"
   ]
  },
  {
   "cell_type": "code",
   "execution_count": 3,
   "metadata": {},
   "outputs": [
    {
     "data": {
      "text/html": [
       "<div>\n",
       "<style scoped>\n",
       "    .dataframe tbody tr th:only-of-type {\n",
       "        vertical-align: middle;\n",
       "    }\n",
       "\n",
       "    .dataframe tbody tr th {\n",
       "        vertical-align: top;\n",
       "    }\n",
       "\n",
       "    .dataframe thead th {\n",
       "        text-align: right;\n",
       "    }\n",
       "</style>\n",
       "<table border=\"1\" class=\"dataframe\">\n",
       "  <thead>\n",
       "    <tr style=\"text-align: right;\">\n",
       "      <th></th>\n",
       "      <th>PassengerId</th>\n",
       "      <th>Survived</th>\n",
       "      <th>Pclass</th>\n",
       "      <th>Name</th>\n",
       "      <th>Sex</th>\n",
       "      <th>Age</th>\n",
       "      <th>SibSp</th>\n",
       "      <th>Parch</th>\n",
       "      <th>Ticket</th>\n",
       "      <th>Fare</th>\n",
       "      <th>Cabin</th>\n",
       "      <th>Embarked</th>\n",
       "    </tr>\n",
       "  </thead>\n",
       "  <tbody>\n",
       "    <tr>\n",
       "      <th>0</th>\n",
       "      <td>1</td>\n",
       "      <td>0</td>\n",
       "      <td>3</td>\n",
       "      <td>Braund, Mr. Owen Harris</td>\n",
       "      <td>male</td>\n",
       "      <td>22.0</td>\n",
       "      <td>1</td>\n",
       "      <td>0</td>\n",
       "      <td>A/5 21171</td>\n",
       "      <td>7.2500</td>\n",
       "      <td>NaN</td>\n",
       "      <td>S</td>\n",
       "    </tr>\n",
       "    <tr>\n",
       "      <th>1</th>\n",
       "      <td>2</td>\n",
       "      <td>1</td>\n",
       "      <td>1</td>\n",
       "      <td>Cumings, Mrs. John Bradley (Florence Briggs Th...</td>\n",
       "      <td>female</td>\n",
       "      <td>38.0</td>\n",
       "      <td>1</td>\n",
       "      <td>0</td>\n",
       "      <td>PC 17599</td>\n",
       "      <td>71.2833</td>\n",
       "      <td>C85</td>\n",
       "      <td>C</td>\n",
       "    </tr>\n",
       "    <tr>\n",
       "      <th>2</th>\n",
       "      <td>3</td>\n",
       "      <td>1</td>\n",
       "      <td>3</td>\n",
       "      <td>Heikkinen, Miss. Laina</td>\n",
       "      <td>female</td>\n",
       "      <td>26.0</td>\n",
       "      <td>0</td>\n",
       "      <td>0</td>\n",
       "      <td>STON/O2. 3101282</td>\n",
       "      <td>7.9250</td>\n",
       "      <td>NaN</td>\n",
       "      <td>S</td>\n",
       "    </tr>\n",
       "    <tr>\n",
       "      <th>3</th>\n",
       "      <td>4</td>\n",
       "      <td>1</td>\n",
       "      <td>1</td>\n",
       "      <td>Futrelle, Mrs. Jacques Heath (Lily May Peel)</td>\n",
       "      <td>female</td>\n",
       "      <td>35.0</td>\n",
       "      <td>1</td>\n",
       "      <td>0</td>\n",
       "      <td>113803</td>\n",
       "      <td>53.1000</td>\n",
       "      <td>C123</td>\n",
       "      <td>S</td>\n",
       "    </tr>\n",
       "    <tr>\n",
       "      <th>4</th>\n",
       "      <td>5</td>\n",
       "      <td>0</td>\n",
       "      <td>3</td>\n",
       "      <td>Allen, Mr. William Henry</td>\n",
       "      <td>male</td>\n",
       "      <td>35.0</td>\n",
       "      <td>0</td>\n",
       "      <td>0</td>\n",
       "      <td>373450</td>\n",
       "      <td>8.0500</td>\n",
       "      <td>NaN</td>\n",
       "      <td>S</td>\n",
       "    </tr>\n",
       "  </tbody>\n",
       "</table>\n",
       "</div>"
      ],
      "text/plain": [
       "   PassengerId  Survived  Pclass  \\\n",
       "0            1         0       3   \n",
       "1            2         1       1   \n",
       "2            3         1       3   \n",
       "3            4         1       1   \n",
       "4            5         0       3   \n",
       "\n",
       "                                                Name     Sex   Age  SibSp  \\\n",
       "0                            Braund, Mr. Owen Harris    male  22.0      1   \n",
       "1  Cumings, Mrs. John Bradley (Florence Briggs Th...  female  38.0      1   \n",
       "2                             Heikkinen, Miss. Laina  female  26.0      0   \n",
       "3       Futrelle, Mrs. Jacques Heath (Lily May Peel)  female  35.0      1   \n",
       "4                           Allen, Mr. William Henry    male  35.0      0   \n",
       "\n",
       "   Parch            Ticket     Fare Cabin Embarked  \n",
       "0      0         A/5 21171   7.2500   NaN        S  \n",
       "1      0          PC 17599  71.2833   C85        C  \n",
       "2      0  STON/O2. 3101282   7.9250   NaN        S  \n",
       "3      0            113803  53.1000  C123        S  \n",
       "4      0            373450   8.0500   NaN        S  "
      ]
     },
     "execution_count": 3,
     "metadata": {},
     "output_type": "execute_result"
    }
   ],
   "source": [
    "data.head()\n",
    "#data.info()"
   ]
  },
  {
   "cell_type": "code",
   "execution_count": 4,
   "metadata": {},
   "outputs": [],
   "source": [
    "# data.drop(\"Name\", axis=1, inplace=True)\n",
    "# data.drop(\"Ticket\", axis=1, inplace=True)\n",
    "# data.head()\n",
    "# count = data.isna().sum()\n",
    "avg = data['Age'].mean()\n",
    "data['Age'].fillna(avg, inplace=True)\n",
    "data['Embarked'].fillna(2, inplace=True)\n",
    "# final_count = data.isna().sum()\n",
    "# print(\"\\nCOUNT:\\n\"+ str(count) + \"\\nFINAL COUNT\\n\" + str(final_count) +\"\\n\")"
   ]
  },
  {
   "cell_type": "code",
   "execution_count": 5,
   "metadata": {},
   "outputs": [
    {
     "name": "stdout",
     "output_type": "stream",
     "text": [
      "   PassengerId  Survived  Pclass  \\\n",
      "0            1         0       3   \n",
      "1            2         1       1   \n",
      "2            3         1       3   \n",
      "3            4         1       1   \n",
      "4            5         0       3   \n",
      "\n",
      "                                                Name     Sex   Age  SibSp  \\\n",
      "0                            Braund, Mr. Owen Harris    male  22.0      1   \n",
      "1  Cumings, Mrs. John Bradley (Florence Briggs Th...  female  38.0      1   \n",
      "2                             Heikkinen, Miss. Laina  female  26.0      0   \n",
      "3       Futrelle, Mrs. Jacques Heath (Lily May Peel)  female  35.0      1   \n",
      "4                           Allen, Mr. William Henry    male  35.0      0   \n",
      "\n",
      "   Parch            Ticket     Fare Cabin Embarked  \n",
      "0      0         A/5 21171   7.2500   NaN        S  \n",
      "1      0          PC 17599  71.2833   C85        C  \n",
      "2      0  STON/O2. 3101282   7.9250   NaN        S  \n",
      "3      0            113803  53.1000  C123        S  \n",
      "4      0            373450   8.0500   NaN        S  \n",
      "   PassengerId  Survived  Pclass  \\\n",
      "0            1         0       3   \n",
      "1            2         1       1   \n",
      "2            3         1       3   \n",
      "3            4         1       1   \n",
      "4            5         0       3   \n",
      "\n",
      "                                                Name     Sex   Age  SibSp  \\\n",
      "0                            Braund, Mr. Owen Harris    male  22.0      1   \n",
      "1  Cumings, Mrs. John Bradley (Florence Briggs Th...  female  38.0      1   \n",
      "2                             Heikkinen, Miss. Laina  female  26.0      0   \n",
      "3       Futrelle, Mrs. Jacques Heath (Lily May Peel)  female  35.0      1   \n",
      "4                           Allen, Mr. William Henry    male  35.0      0   \n",
      "\n",
      "   Parch            Ticket     Fare Cabin  Embarked  \n",
      "0      0         A/5 21171   7.2500   NaN         1  \n",
      "1      0          PC 17599  71.2833   C85         2  \n",
      "2      0  STON/O2. 3101282   7.9250   NaN         1  \n",
      "3      0            113803  53.1000  C123         1  \n",
      "4      0            373450   8.0500   NaN         1  \n"
     ]
    }
   ],
   "source": [
    "print(data.head())\n",
    "data['Embarked'].value_counts()\n",
    "cleanup_nums = { 'Embarked': {'S':1, 'C':2, 'Q':3} }\n",
    "data.replace(cleanup_nums, inplace=True)\n",
    "print(data.head())"
   ]
  },
  {
   "cell_type": "code",
   "execution_count": 6,
   "metadata": {},
   "outputs": [],
   "source": [
    "prediction_var = ['Pclass', 'Age', 'SibSp', 'Parch', 'Fare', 'Embarked']\n",
    "x = data[prediction_var].values\n",
    "y = data.Survived.values\n",
    "length = x.shape[0]\n",
    "split = .9\n",
    "point = int(split*length)\n",
    "\n",
    "x_train = x[:point]\n",
    "y_train = y[:point]\n",
    "x_test = x[point:]\n",
    "y_test = y[point:]\n",
    "inputCount = len(prediction_var)"
   ]
  },
  {
   "cell_type": "code",
   "execution_count": 7,
   "metadata": {},
   "outputs": [],
   "source": [
    "model = Sequential()\n",
    "model.add(Dense(100, input_dim=inputCount, activation='relu'))\n",
    "model.add(Dense(100, activation='relu'))\n",
    "model.add(Dropout(.6))\n",
    "model.add(Dense(100, activation='relu'))\n",
    "model.add(Dense(100, activation='relu'))\n",
    "model.add(Dropout(.5))\n",
    "model.add(Dense(100, activation='relu'))\n",
    "model.add(Dense(100, activation='relu'))\n",
    "model.add(Dense(1, activation='sigmoid'))\n",
    "model.compile(loss='binary_crossentropy', optimizer='adam', metrics=['accuracy'])"
   ]
  },
  {
   "cell_type": "code",
   "execution_count": 13,
   "metadata": {},
   "outputs": [
    {
     "name": "stdout",
     "output_type": "stream",
     "text": [
      "Epoch 1/50\n",
      "801/801 [==============================] - 0s 41us/step - loss: 0.6231 - acc: 0.6554\n",
      "Epoch 2/50\n",
      "801/801 [==============================] - 0s 50us/step - loss: 0.6398 - acc: 0.6679\n",
      "Epoch 3/50\n",
      "801/801 [==============================] - 0s 52us/step - loss: 0.6414 - acc: 0.6467\n",
      "Epoch 4/50\n",
      "801/801 [==============================] - 0s 48us/step - loss: 0.6274 - acc: 0.6804\n",
      "Epoch 5/50\n",
      "801/801 [==============================] - 0s 51us/step - loss: 0.6303 - acc: 0.6567\n",
      "Epoch 6/50\n",
      "801/801 [==============================] - 0s 50us/step - loss: 0.6263 - acc: 0.6592\n",
      "Epoch 7/50\n",
      "801/801 [==============================] - 0s 61us/step - loss: 0.6346 - acc: 0.6617\n",
      "Epoch 8/50\n",
      "801/801 [==============================] - 0s 58us/step - loss: 0.6347 - acc: 0.6692\n",
      "Epoch 9/50\n",
      "801/801 [==============================] - 0s 44us/step - loss: 0.6265 - acc: 0.6704\n",
      "Epoch 10/50\n",
      "801/801 [==============================] - ETA: 0s - loss: 0.5926 - acc: 0.679 - 0s 55us/step - loss: 0.6247 - acc: 0.6492\n",
      "Epoch 11/50\n",
      "801/801 [==============================] - 0s 50us/step - loss: 0.6115 - acc: 0.6692\n",
      "Epoch 12/50\n",
      "801/801 [==============================] - 0s 50us/step - loss: 0.6191 - acc: 0.6679\n",
      "Epoch 13/50\n",
      "801/801 [==============================] - 0s 45us/step - loss: 0.6220 - acc: 0.6629\n",
      "Epoch 14/50\n",
      "801/801 [==============================] - 0s 45us/step - loss: 0.6342 - acc: 0.6542\n",
      "Epoch 15/50\n",
      "801/801 [==============================] - 0s 52us/step - loss: 0.6272 - acc: 0.6554\n",
      "Epoch 16/50\n",
      "801/801 [==============================] - 0s 50us/step - loss: 0.6285 - acc: 0.6592\n",
      "Epoch 17/50\n",
      "801/801 [==============================] - 0s 50us/step - loss: 0.6195 - acc: 0.6729\n",
      "Epoch 18/50\n",
      "801/801 [==============================] - 0s 52us/step - loss: 0.6187 - acc: 0.6692\n",
      "Epoch 19/50\n",
      "801/801 [==============================] - 0s 51us/step - loss: 0.6303 - acc: 0.6717\n",
      "Epoch 20/50\n",
      "801/801 [==============================] - 0s 46us/step - loss: 0.6191 - acc: 0.6742\n",
      "Epoch 21/50\n",
      "801/801 [==============================] - 0s 52us/step - loss: 0.6214 - acc: 0.6742\n",
      "Epoch 22/50\n",
      "801/801 [==============================] - 0s 66us/step - loss: 0.6144 - acc: 0.6754\n",
      "Epoch 23/50\n",
      "801/801 [==============================] - 0s 49us/step - loss: 0.6129 - acc: 0.6792\n",
      "Epoch 24/50\n",
      "801/801 [==============================] - 0s 55us/step - loss: 0.6190 - acc: 0.6642\n",
      "Epoch 25/50\n",
      "801/801 [==============================] - 0s 51us/step - loss: 0.6144 - acc: 0.6692\n",
      "Epoch 26/50\n",
      "801/801 [==============================] - 0s 55us/step - loss: 0.6210 - acc: 0.6579\n",
      "Epoch 27/50\n",
      "801/801 [==============================] - 0s 46us/step - loss: 0.6249 - acc: 0.6592\n",
      "Epoch 28/50\n",
      "801/801 [==============================] - 0s 56us/step - loss: 0.6342 - acc: 0.6579\n",
      "Epoch 29/50\n",
      "801/801 [==============================] - 0s 52us/step - loss: 0.6123 - acc: 0.6804\n",
      "Epoch 30/50\n",
      "801/801 [==============================] - 0s 55us/step - loss: 0.6093 - acc: 0.6816\n",
      "Epoch 31/50\n",
      "801/801 [==============================] - 0s 56us/step - loss: 0.6131 - acc: 0.6816\n",
      "Epoch 32/50\n",
      "801/801 [==============================] - 0s 57us/step - loss: 0.6100 - acc: 0.6879\n",
      "Epoch 33/50\n",
      "801/801 [==============================] - 0s 54us/step - loss: 0.6144 - acc: 0.6829\n",
      "Epoch 34/50\n",
      "801/801 [==============================] - 0s 47us/step - loss: 0.6176 - acc: 0.6891\n",
      "Epoch 35/50\n",
      "801/801 [==============================] - 0s 47us/step - loss: 0.6152 - acc: 0.6692\n",
      "Epoch 36/50\n",
      "801/801 [==============================] - 0s 50us/step - loss: 0.6069 - acc: 0.6729\n",
      "Epoch 37/50\n",
      "801/801 [==============================] - 0s 55us/step - loss: 0.6204 - acc: 0.6866\n",
      "Epoch 38/50\n",
      "801/801 [==============================] - 0s 44us/step - loss: 0.6059 - acc: 0.6779\n",
      "Epoch 39/50\n",
      "801/801 [==============================] - 0s 50us/step - loss: 0.6165 - acc: 0.6816\n",
      "Epoch 40/50\n",
      "801/801 [==============================] - 0s 51us/step - loss: 0.6175 - acc: 0.6829\n",
      "Epoch 41/50\n",
      "801/801 [==============================] - 0s 51us/step - loss: 0.6132 - acc: 0.6704\n",
      "Epoch 42/50\n",
      "801/801 [==============================] - 0s 50us/step - loss: 0.6136 - acc: 0.6704\n",
      "Epoch 43/50\n",
      "801/801 [==============================] - 0s 52us/step - loss: 0.6090 - acc: 0.6767\n",
      "Epoch 44/50\n",
      "801/801 [==============================] - 0s 47us/step - loss: 0.6194 - acc: 0.6829\n",
      "Epoch 45/50\n",
      "801/801 [==============================] - 0s 45us/step - loss: 0.6022 - acc: 0.6866\n",
      "Epoch 46/50\n",
      "801/801 [==============================] - 0s 56us/step - loss: 0.6006 - acc: 0.6954\n",
      "Epoch 47/50\n",
      "801/801 [==============================] - 0s 49us/step - loss: 0.5937 - acc: 0.6904\n",
      "Epoch 48/50\n",
      "801/801 [==============================] - 0s 51us/step - loss: 0.6124 - acc: 0.6979\n",
      "Epoch 49/50\n",
      "801/801 [==============================] - 0s 44us/step - loss: 0.6059 - acc: 0.6954\n",
      "Epoch 50/50\n",
      "801/801 [==============================] - 0s 44us/step - loss: 0.5983 - acc: 0.6966\n",
      "\n",
      "\n",
      "\n",
      "90/90 [==============================] - 0s 11us/step\n"
     ]
    }
   ],
   "source": [
    "#print(x[0])\n",
    "#model.fit(x=X, y=y, epochs=10, steps_per_epoch=100, validation_split=0.1, shuffle=True, verbose=1, validation_steps=100)\n",
    "model.fit(x_train, y_train, epochs=50, batch_size=128, verbose=1)\n",
    "print(\"\\n\\n\")\n",
    "score=model.evaluate(x_test, y_test, batch_size=128)"
   ]
  },
  {
   "cell_type": "code",
   "execution_count": 14,
   "metadata": {},
   "outputs": [],
   "source": [
    "predictions = model.predict(x_test)\n",
    "predictions = [round(float(i)) for i in predictions]"
   ]
  },
  {
   "cell_type": "code",
   "execution_count": 15,
   "metadata": {},
   "outputs": [],
   "source": [
    "correct=[]\n",
    "for i in range(len(predictions)):\n",
    "    if predictions[i] == y_test[i]:\n",
    "        correct.append(1)\n",
    "    else:\n",
    "        correct.append(0)"
   ]
  },
  {
   "cell_type": "code",
   "execution_count": 16,
   "metadata": {},
   "outputs": [
    {
     "data": {
      "text/plain": [
       "0.7666666666666667"
      ]
     },
     "execution_count": 16,
     "metadata": {},
     "output_type": "execute_result"
    }
   ],
   "source": [
    "sum(correct)/len(correct)"
   ]
  },
  {
   "cell_type": "code",
   "execution_count": 17,
   "metadata": {},
   "outputs": [
    {
     "name": "stdout",
     "output_type": "stream",
     "text": [
      "342\n"
     ]
    },
    {
     "data": {
      "text/plain": [
       "0.6157303370786518"
      ]
     },
     "execution_count": 17,
     "metadata": {},
     "output_type": "execute_result"
    }
   ],
   "source": [
    "print(data['Survived'].sum())\n",
    "#data['Survived']\n",
    "1-342/890"
   ]
  },
  {
   "cell_type": "code",
   "execution_count": null,
   "metadata": {},
   "outputs": [],
   "source": []
  }
 ],
 "metadata": {
  "kernelspec": {
   "display_name": "Python 3",
   "language": "python",
   "name": "python3"
  },
  "language_info": {
   "codemirror_mode": {
    "name": "ipython",
    "version": 3
   },
   "file_extension": ".py",
   "mimetype": "text/x-python",
   "name": "python",
   "nbconvert_exporter": "python",
   "pygments_lexer": "ipython3",
   "version": "3.6.6"
  }
 },
 "nbformat": 4,
 "nbformat_minor": 2
}
